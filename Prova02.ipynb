{
 "cells": [
  {
   "cell_type": "code",
   "execution_count": 27,
   "id": "e48c6747-ce40-4ab1-a3cd-b3e95b906d6e",
   "metadata": {},
   "outputs": [],
   "source": [
    "from statistics import mean\n",
    "consumo_diario = [50, 45, 55, 60, 48, 52, 47, 49, 53, 51, 50, 46, 54, 61, 49, 53, 48, 50, 52, 52, 47, 56, 50, 55, 60, 48, 52, 47, 49, 53, 51]"
   ]
  },
  {
   "cell_type": "code",
   "execution_count": 101,
   "id": "13d3b406-cf3c-41a4-937d-b4b01f56a69e",
   "metadata": {},
   "outputs": [],
   "source": [
    "def consumo(consumo_diario):\n",
    "    media = mean(consumo_diario)\n",
    "    return media"
   ]
  },
  {
   "cell_type": "code",
   "execution_count": 103,
   "id": "4ee07ccb-cc62-4a03-956b-a233bdb049d4",
   "metadata": {},
   "outputs": [
    {
     "name": "stdout",
     "output_type": "stream",
     "text": [
      "O consumo diário médio foi: 51.38709677419355\n"
     ]
    }
   ],
   "source": [
    "print(f\"O consumo diário médio foi: {consumo(consumo_diario)}\")"
   ]
  }
 ],
 "metadata": {
  "kernelspec": {
   "display_name": "Python [conda env:base] *",
   "language": "python",
   "name": "conda-base-py"
  },
  "language_info": {
   "codemirror_mode": {
    "name": "ipython",
    "version": 3
   },
   "file_extension": ".py",
   "mimetype": "text/x-python",
   "name": "python",
   "nbconvert_exporter": "python",
   "pygments_lexer": "ipython3",
   "version": "3.12.7"
  }
 },
 "nbformat": 4,
 "nbformat_minor": 5
}
